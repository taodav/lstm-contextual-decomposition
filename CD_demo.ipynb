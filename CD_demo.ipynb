{
 "cells": [
  {
   "cell_type": "code",
   "execution_count": 1,
   "metadata": {},
   "outputs": [],
   "source": [
    "%load_ext autoreload\n",
    "%autoreload 2"
   ]
  },
  {
   "cell_type": "code",
   "execution_count": 2,
   "metadata": {},
   "outputs": [],
   "source": [
    "import numpy as np\n",
    "import os\n",
    "import pandas as pd\n",
    "import torch\n",
    "import torch.nn as nn\n",
    "from torch.autograd import Variable\n",
    "from torchtext import data, datasets\n",
    "import torch.nn.functional as F\n",
    "import torch.optim as O\n",
    "import matplotlib.pyplot as plt\n",
    "from scipy import stats, integrate\n",
    "import seaborn as sns\n",
    "import scipy as sp\n",
    "from model import LSTMSentiment\n",
    "from argparse import ArgumentParser\n",
    "from data_utils import load_sst, makedirs, get_args\n",
    "from train import get_accuracy, train_model\n",
    "from logit import load_sst_logistic_reg, logit_clf\n",
    "from CD import CD, get_batches\n",
    "import time"
   ]
  },
  {
   "cell_type": "code",
   "execution_count": 3,
   "metadata": {},
   "outputs": [],
   "source": [
    "args = get_args()\n",
    "torch.cuda.set_device(0)\n",
    "inputs, outputs, train_iter, valid_iter, train_sst, valid_sst = load_sst(args)\n",
    "args[\"n_embed\"] = len(inputs.vocab)\n",
    "args[\"d_out\"] = len(outputs.vocab)\n"
   ]
  },
  {
   "cell_type": "code",
   "execution_count": 4,
   "metadata": {},
   "outputs": [
    {
     "name": "stdout",
     "output_type": "stream",
     "text": [
      "Loading best snapshot\n"
     ]
    },
    {
     "name": "stderr",
     "output_type": "stream",
     "text": [
      "C:\\Users\\David\\Anaconda3\\envs\\pytorch\\lib\\site-packages\\torch\\cuda\\__init__.py:116: UserWarning: \n",
      "    Found GPU0 GeForce GTX 960M which is of cuda capability 5.0.\n",
      "    PyTorch no longer supports this GPU because it is too old.\n",
      "    \n",
      "  warnings.warn(old_gpu_warn % (d, name, major, capability[1]))\n"
     ]
    }
   ],
   "source": [
    "# We have included our pretrained model in the results folder.\n",
    "# If you want to train your own model, delete or rename the file and run this cell again.\n",
    "\n",
    "model = LSTMSentiment(args)\n",
    "if os.path.isfile(\"results/best_snapshot.pt\"):\n",
    "    print(\"Loading best snapshot\")\n",
    "    model.cuda()\n",
    "    model.load_state_dict(torch.load(\"results/best_snapshot.pt\"))\n",
    "else:\n",
    "    model = train_model(train_iter, valid_iter, valid_sst, inputs, outputs, args)\n"
   ]
  },
  {
   "cell_type": "code",
   "execution_count": 5,
   "metadata": {},
   "outputs": [],
   "source": [
    "train, valid, test = load_sst_logistic_reg(args)"
   ]
  },
  {
   "cell_type": "code",
   "execution_count": 6,
   "metadata": {},
   "outputs": [
    {
     "name": "stdout",
     "output_type": "stream",
     "text": [
      "             precision    recall  f1-score   support\n",
      "\n",
      "   positive       0.82      0.80      0.81       428\n",
      "   negative       0.81      0.83      0.82       444\n",
      "\n",
      "avg / total       0.82      0.82      0.82       872\n",
      "\n",
      "0.8188073394495413\n"
     ]
    }
   ],
   "source": [
    "from sklearn.feature_extraction.text import CountVectorizer\n",
    "from sklearn.linear_model import LogisticRegression\n",
    "from sklearn import metrics\n",
    "from sklearn.metrics import mean_absolute_error\n",
    "\n",
    "vectorizer = CountVectorizer(tokenizer= lambda doc:doc, lowercase=False)\n",
    "\n",
    "training_data = [text for text in train.text]\n",
    "training_labels = [label for label in train.label]\n",
    "validation_data = [text for text in valid.text]\n",
    "validation_labels = [label for label in valid.label]\n",
    "test_data = [text for text in test.text]\n",
    "test_labels = [label for label in test.label]\n",
    "\n",
    "\n",
    "bag_of_words = vectorizer.fit_transform(training_data)\n",
    "\n",
    "\n",
    "clf = LogisticRegression(dual=True)\n",
    "clf.fit(bag_of_words, training_labels)\n",
    "predictions = clf.predict(vectorizer.transform(validation_data))\n",
    "\n",
    "print(metrics.classification_report(validation_labels, predictions,target_names=[\"positive\",\"negative\"]))\n",
    "print(metrics.accuracy_score(validation_labels, predictions))"
   ]
  },
  {
   "cell_type": "code",
   "execution_count": 7,
   "metadata": {},
   "outputs": [],
   "source": [
    "validation_vectorizer = CountVectorizer(tokenizer = lambda doc:doc, lowercase=False)\n",
    "validation_vectorizer.fit_transform(validation_data)\n",
    "word_coef_lookup = {feature: coef for coef, feature in zip(clf.coef_[0], vectorizer.get_feature_names())}\n",
    "word_validation_coef_lookup = {word:word_coef_lookup[word] for word in validation_vectorizer.vocabulary_ if word in word_coef_lookup}"
   ]
  },
  {
   "cell_type": "code",
   "execution_count": 8,
   "metadata": {},
   "outputs": [],
   "source": [
    "args[\"batch_size\"] = 1\n",
    "args[\"retrain\"] = True\n",
    "inputs, outputs, train_iter, valid_iter, train_sst, valid_sst = load_sst(args)"
   ]
  },
  {
   "cell_type": "code",
   "execution_count": 9,
   "metadata": {},
   "outputs": [
    {
     "name": "stdout",
     "output_type": "stream",
     "text": [
      "getting batches...\n",
      "generating dissenting subphrases\n"
     ]
    }
   ],
   "source": [
    "batch_nums = list(range(len(train_iter)))\n",
    "data = get_batches(batch_nums, train_iter, valid_iter, dset='train') \n",
    "cd = CD(model, inputs, clf, data, vectorizer, list(train_sst.text))"
   ]
  },
  {
   "cell_type": "code",
   "execution_count": 10,
   "metadata": {},
   "outputs": [
    {
     "name": "stdout",
     "output_type": "stream",
     "text": [
      "Review level CD scores\n",
      "0.05736776089819258 A cross between Blow and Boyz N The Hood\n",
      "-0.3824642062930505 this movie strives to be more\n",
      "-2.0272274669086414 but does n't quite get there .\n",
      "Word level CD scores\n",
      "-0.034023690053521266 A\n",
      "-0.3377136240480435 cross\n",
      "0.05409740953026705 between\n",
      "0.14698054972567157 Blow\n",
      "-0.033714904836206955 and\n",
      "0.18138743163902665 Boyz\n",
      "0.18614519934878346 N\n",
      "-0.21658073256294302 The\n",
      "-0.09872131675246097 Hood\n",
      "0.018131753883697446 ,\n",
      "-0.11600721478592188 this\n",
      "-0.09706420443789754 movie\n",
      "-0.07190574379868078 strives\n",
      "0.09107054713110134 to\n",
      "0.14143625918699368 be\n",
      "-0.09672431869423792 more\n",
      "-0.2680167597921662 ,\n",
      "-0.7073754444347832 but\n",
      "0.32334097119874194 does\n",
      "-1.9452351616709391 n't\n",
      "0.6891934730175056 quite\n",
      "-0.03640935212415806 get\n",
      "-0.041732622656127004 there\n",
      "0.05776841798689479 .\n"
     ]
    }
   ],
   "source": [
    "good_ones = [60, 15, 16]\n",
    "num = 3\n",
    "print(\"Review level CD scores\")\n",
    "res_review = cd.CD_phrase(cd.dissenting[num])\n",
    "print(\"Word level CD scores\")\n",
    "res_by_word = cd.CD_word(cd.dissenting[num])\n"
   ]
  },
  {
   "cell_type": "code",
   "execution_count": 11,
   "metadata": {},
   "outputs": [],
   "source": [
    "words = {}\n",
    "if os.path.isfile(\"CD_SCORE_individual.csv\"):\n",
    "    df = pd.read_csv(\"CD_SCORE_individual.csv\", index_col=0)\n",
    "    words = {row[\"word\"]:row[\"score\"] for index, row in df.iterrows()} \n",
    "else:\n",
    "    #Array of phrases\n",
    "    for ind in range(len(data)):\n",
    "        if ind%50 ==0:\n",
    "            print(\"ind\", ind)\n",
    "        text = data[ind].text.data[:, 0]\n",
    "        vect2Word = [inputs.vocab.itos[i] for i in text]\n",
    "    #     print (vect2Word)\n",
    "        for i in range(len(vect2Word)):\n",
    "            if(vect2Word[i] not in words):\n",
    "                words[vect2Word[i]] = cd.context_decomp(data[ind], i, i)\n",
    "    df = pd.DataFrame(list(words.items()), columns=[\"word\", \"score\"])\n",
    "    df.to_csv(\"CD_SCORE_individual.csv\")"
   ]
  },
  {
   "cell_type": "code",
   "execution_count": 12,
   "metadata": {},
   "outputs": [
    {
     "name": "stdout",
     "output_type": "stream",
     "text": [
      "(0.4899085134832378, 1.0078843816233078e-212)\n"
     ]
    },
    {
     "data": {
      "image/png": "[encoded data removed]",
      "text/plain": [
       "<Figure size 432x288 with 1 Axes>"
      ]
     },
     "metadata": {},
     "output_type": "display_data"
    }
   ],
   "source": [
    "x=[]\n",
    "y=[]\n",
    "\n",
    "for key, val  in word_validation_coef_lookup.items():\n",
    "    if key in words:\n",
    "        x.append(word_validation_coef_lookup[key])\n",
    "        y.append(words[key])\n",
    "    \n",
    "print(sp.stats.pearsonr(x,y))\n",
    "# y_10 = [y * 10 for elem in y]\n",
    "plt.title(\"Logistic Regression Coefficients vs individual word CD scores\")\n",
    "plt.xlabel(\"Logistic Regression Coefficients\")\n",
    "plt.ylabel(\"Individual word CD scores\")\n",
    "plt.plot(x , y, 'ro')\n",
    "plt.show()"
   ]
  },
  {
   "cell_type": "code",
   "execution_count": 13,
   "metadata": {},
   "outputs": [],
   "source": [
    "import nltk\n",
    "from nltk.tree import Tree\n",
    "\n",
    "ROOT = 'ROOT'\n",
    "\n",
    "negation_terms = set(['not', 'n’t', 'lacks', 'nobody', 'nor', 'nothing', 'neither', 'never', 'none', 'nowhere', 'remotely'])\n",
    "parents_set = list()\n",
    "\n",
    "trees = []\n",
    "with open(os.path.expanduser('./.data/sst/trees/train.txt')) as f:\n",
    "    for line in f:\n",
    "        tree = Tree.fromstring(line)\n",
    "        trees.append(tree)\n",
    "\n",
    "def getNegatingSubphrases(parent, review_id, review, parent_index, tree_height):\n",
    "    nodes = [{\"node\":node} for node in parent]\n",
    "    start_index = parent_index\n",
    "  \n",
    "  # Get the start and end indexes for each child based off of their parent's index. \n",
    "    for node in nodes:\n",
    "        if type(node['node']) is nltk.Tree:\n",
    "            end_index = len(node[\"node\"].leaves()) + start_index\n",
    "            node['start_index'] = start_index\n",
    "            node['end_index'] = end_index\n",
    "            start_index = end_index\n",
    "      \n",
    "    if len(parent.leaves()) < 10:\n",
    "        if len(nodes) >= 2:\n",
    "            first_child = nodes[0]['node']\n",
    "            second_child = nodes[1]['node']\n",
    "            first_child_first_two_words = set()\n",
    "            if type(first_child) is str:\n",
    "                first_child_first_two_words = set(list(first_child))\n",
    "            else:\n",
    "                first_child_first_two_words = set(list(first_child.leaves())[:2])\n",
    "            # if the first child has some negation terms\n",
    "            if first_child_first_two_words.intersection(negation_terms):\n",
    "                if int(second_child.label()) in [0,1,3,4]:\n",
    "                    parents_set.append({\"review_id\":review_id,\"review\":review, \n",
    "                                        \"parent\":parent, \n",
    "                                        \"first_child\": first_child, \n",
    "                                        \"second_child\":second_child, \n",
    "                                        \"first_child_start_index\":nodes[0]['start_index'],\n",
    "                                        \"first_child_end_index\":nodes[0]['end_index'],\n",
    "                                        \"second_child_start_index\": nodes[1]['start_index'],\n",
    "                                        \"second_child_end_index\": nodes[1]['end_index'],\n",
    "                                        \"height\":tree_height,\n",
    "                                        \"negation_subphrase\": nodes[1]['node']\n",
    "                                        })\n",
    "\n",
    "  # keep on recursing \n",
    "    for node in nodes:\n",
    "        if type(node['node']) is nltk.Tree:\n",
    "            getNegatingSubphrases(node['node'], review_id, review, node['start_index'], tree_height + 1)\n",
    "\n",
    "for i, tree in enumerate(trees):\n",
    "    getNegatingSubphrases(tree, i, tree, 0,0)\n",
    "\n",
    "    "
   ]
  },
  {
   "cell_type": "code",
   "execution_count": 14,
   "metadata": {},
   "outputs": [],
   "source": [
    "negative_labels = set([0,1])\n",
    "positive_labels = set([3,4])\n",
    "\n",
    "dissenting_subphrase_reviews = []\n",
    "def getDissentingSubphrase(parent, review_label, review_length, review, review_id,parent_index, tree_height):\n",
    "    continue_recursion = True\n",
    "\n",
    "    nodes = [{\"node\":node} for node in parent]\n",
    "    start_index = parent_index\n",
    "\n",
    "    # Get the start and end indexes for each child based off of their parent's index. \n",
    "    for node in nodes:\n",
    "        if type(node['node']) is nltk.Tree:\n",
    "            end_index = len(node[\"node\"].leaves()) + start_index\n",
    "            node['start_index'] = start_index\n",
    "            node['end_index'] = end_index\n",
    "            start_index = end_index\n",
    "  \n",
    "    for node in nodes:\n",
    "        if type(node['node']) is nltk.Tree:\n",
    "            node_label = int(node['node'].label())\n",
    "            node_length = len(node['node'].leaves())\n",
    "            if ((review_label in negative_labels and node_label in positive_labels) or (review_label in positive_labels and node_label in negative_labels)):\n",
    "                if (review_length / float(3)) < node_length and (review_length * 2.0 / float(3)) > node_length:\n",
    "                    dissenting_subphrase_reviews.append({\"review_id\":review_id,\n",
    "                                                       \"review\":review, \n",
    "                                                       \"parent\":parent,\n",
    "                                                       \"child_start_index\":node['start_index'],\n",
    "                                                       \"child_end_index\":node['end_index'],\n",
    "                                                       \"dissenting_subphrase\": node['node'],\n",
    "                                                       \"height\":tree_height})\n",
    "   \n",
    "    for node in nodes:\n",
    "        if type(node['node']) is nltk.Tree:\n",
    "            getDissentingSubphrase(node['node'], review_label, review_length, review, review_id, node['start_index'], tree_height+1)\n",
    "\n",
    "for i,tree in enumerate(trees):\n",
    "    getDissentingSubphrase(tree, int(tree.label()), len(tree.leaves()), tree, i, 0, 0)"
   ]
  },
  {
   "cell_type": "code",
   "execution_count": 15,
   "metadata": {},
   "outputs": [],
   "source": [
    "review_lookup = {}\n",
    "# This takes a while to build. Array of phrases\n",
    "for ind in range(len(data)):\n",
    "    text = data[ind].text.data[:, 0]\n",
    "    vect2Word = tuple(inputs.vocab.itos[i] for i in text)\n",
    "    review_lookup[vect2Word] = data[ind]"
   ]
  },
  {
   "cell_type": "code",
   "execution_count": 16,
   "metadata": {},
   "outputs": [],
   "source": [
    "negation_subphrase_cd_scores = []\n",
    "negation_subphrase_labels = [] \n",
    "for review in parents_set:\n",
    "    if tuple(review[\"review\"].leaves()) in review_lookup and review['second_child_end_index'] - review['first_child_start_index'] < 5:\n",
    "#     if tuple(review[\"review\"].leaves()) in review_lookup:\n",
    "        review_vector = review_lookup[tuple(review[\"review\"].leaves())]\n",
    "        a = cd.context_decomp(review_vector, review['first_child_start_index'],review['second_child_end_index'])\n",
    "        b = cd.context_decomp(review_vector, review['first_child_start_index'], review['first_child_end_index'])\n",
    "        c = cd.context_decomp(review_vector, review['second_child_start_index'], review['second_child_end_index']) \n",
    "        \n",
    "        score = a-(b+c)\n",
    "        negation_subphrase_cd_score = score\n",
    "\n",
    "        subphrase_label = review['negation_subphrase'].label()\n",
    "\n",
    "        negation_subphrase_cd_scores.append(negation_subphrase_cd_score)\n",
    "        negation_subphrase_labels.append(subphrase_label)  "
   ]
  },
  {
   "cell_type": "code",
   "execution_count": 17,
   "metadata": {},
   "outputs": [
    {
     "name": "stdout",
     "output_type": "stream",
     "text": [
      "118\n"
     ]
    },
    {
     "data": {
      "image/png": "[encoded data removed]",
      "text/plain": [
       "<Figure size 432x288 with 1 Axes>"
      ]
     },
     "metadata": {},
     "output_type": "display_data"
    }
   ],
   "source": [
    "negative_labels = set([0,1])\n",
    "positive_labels = set([3,4])\n",
    "\n",
    "results = zip(negation_subphrase_cd_scores, negation_subphrase_labels)\n",
    "positive_subphrase_cd_scores = [score for score, label in results if int(label) in [3,4]]\n",
    "results = zip(negation_subphrase_cd_scores, negation_subphrase_labels)\n",
    "negative_subphrase_cd_scores = [score for score, label in results if int(label) in [0,1]]\n",
    "\n",
    "x = np.asarray(positive_subphrase_cd_scores)\n",
    "x2 = np.asarray(negative_subphrase_cd_scores)\n",
    "sns.distplot(x,hist=False, rug=True, label=\"Negative Negations\")\n",
    "sns.distplot(x2,hist=False, rug=True, label=\"Positive Negations\")\n",
    "plt.title('Positive and Negative Negation CD Score distribution')\n",
    "plt.xlabel('CD score')\n",
    "plt.ylabel('Density')\n",
    "print(len(negation_subphrase_cd_scores))\n",
    "plt.legend()\n",
    "plt.show()"
   ]
  },
  {
   "cell_type": "code",
   "execution_count": 18,
   "metadata": {},
   "outputs": [],
   "source": [
    "dissenting_subphrase_cd_scores = []\n",
    "dissenting_subphrase_labels = []\n",
    "for review in dissenting_subphrase_reviews:\n",
    "    review_vector = review_lookup[tuple(review['review'].leaves())]\n",
    "    dissenting_subphrase_cd_score = cd.context_decomp(review_vector, review['child_start_index'],review['child_end_index'])\n",
    "    subphrase_label = review['dissenting_subphrase'].label()\n",
    "    \n",
    "    dissenting_subphrase_cd_scores.append(dissenting_subphrase_cd_score)\n",
    "    dissenting_subphrase_labels.append(subphrase_label)\n"
   ]
  },
  {
   "cell_type": "code",
   "execution_count": 19,
   "metadata": {},
   "outputs": [
    {
     "data": {
      "image/png": "[encoded data removed]",
      "text/plain": [
       "<Figure size 432x288 with 1 Axes>"
      ]
     },
     "metadata": {},
     "output_type": "display_data"
    }
   ],
   "source": [
    "results = zip(dissenting_subphrase_cd_scores, dissenting_subphrase_labels)\n",
    "positive_subphrase_cd_scores = [score for score, label in results if int(label) in [3,4]]\n",
    "results = zip(dissenting_subphrase_cd_scores, dissenting_subphrase_labels)\n",
    "negative_subphrase_cd_scores = [score for score, label in results if int(label) in [0,1]]\n",
    "\n",
    "x = np.asarray(positive_subphrase_cd_scores)\n",
    "x2 = np.asarray(negative_subphrase_cd_scores)\n",
    "plt.xlim(-7, 7)\n",
    "sns.distplot(x,hist=False, rug=True, label=\"Overall Positive Sentiment\")\n",
    "sns.distplot(x2,hist=False, rug=True, label=\"Overall Negative Sentiment\")\n",
    "plt.title(\"Distribution of positive and negative dissenting sub-phrases in SST\")\n",
    "plt.xlabel(\"CD Score of sub-phrase\")\n",
    "plt.ylabel(\"density\")\n",
    "plt.legend()\n",
    "plt.show()"
   ]
  },
  {
   "cell_type": "code",
   "execution_count": 20,
   "metadata": {},
   "outputs": [
    {
     "data": {
      "text/plain": [
       "[('What', 0.4192587240273706),\n",
       " (\"`` Empire '' lacks in depth it\", -4.434332137444813),\n",
       " ('makes up for with its heart .', 7.365790818212303)]"
      ]
     },
     "execution_count": 20,
     "metadata": {},
     "output_type": "execute_result"
    }
   ],
   "source": [
    "review = dissenting_subphrase_reviews[2]\n",
    "data_batch = review_lookup[tuple(review[\"review\"].leaves())]\n",
    "cd.CD_diss_subphrases(data_batch, review['child_start_index'],review['child_end_index'])"
   ]
  },
  {
   "cell_type": "code",
   "execution_count": 21,
   "metadata": {},
   "outputs": [
    {
     "name": "stdout",
     "output_type": "stream",
     "text": [
      "Complete review:  (\"It 's been done before but never so vividly or with so much passion .\", 6.2694426170729525)\n",
      "Overall negation:  ('never so vividly or', 5.893339886682124)\n",
      "Negation term:  ('never', -1.4774877747822714)\n",
      "Negated phrase:  ('so vividly or', 6.830065919406239)\n"
     ]
    }
   ],
   "source": [
    "negating_review = parents_set[1]\n",
    "negating_batch = review_lookup[tuple(negating_review[\"review\"].leaves())]\n",
    "overall = cd.CD_negating_subphrases(negating_batch, \n",
    "                          negating_review['first_child_start_index'], \n",
    "                          negating_review['first_child_end_index'], \n",
    "                          negating_review['second_child_start_index'],\n",
    "                          negating_review['second_child_end_index']\n",
    "                         )\n",
    "print(\"Complete review: \", overall[\"overall\"])\n",
    "print(\"Overall negation: \", overall[\"negation_phrase\"])\n",
    "print(\"Negation term: \", overall[\"negation_term\"])\n",
    "print(\"Negated phrase: \", overall[\"negated_phrase\"])"
   ]
  },
  {
   "cell_type": "code",
   "execution_count": null,
   "metadata": {},
   "outputs": [],
   "source": []
  },
  {
   "cell_type": "code",
   "execution_count": null,
   "metadata": {},
   "outputs": [],
   "source": []
  }
 ],
 "metadata": {
  "kernelspec": {
   "display_name": "Python 3",
   "language": "python",
   "name": "python3"
  },
  "language_info": {
   "codemirror_mode": {
    "name": "ipython",
    "version": 3
   },
   "file_extension": ".py",
   "mimetype": "text/x-python",
   "name": "python",
   "nbconvert_exporter": "python",
   "pygments_lexer": "ipython3",
   "version": "3.6.4"
  }
 },
 "nbformat": 4,
 "nbformat_minor": 2
}
